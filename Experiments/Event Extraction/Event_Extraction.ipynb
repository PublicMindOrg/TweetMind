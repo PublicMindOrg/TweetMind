{
  "nbformat": 4,
  "nbformat_minor": 0,
  "metadata": {
    "colab": {
      "provenance": []
    },
    "kernelspec": {
      "name": "python3",
      "display_name": "Python 3"
    },
    "language_info": {
      "name": "python"
    }
  },
  "cells": [
    {
      "cell_type": "code",
      "execution_count": null,
      "metadata": {
        "id": "byCAS0cLSk3D",
        "colab": {
          "base_uri": "https://localhost:8080/",
          "height": 89
        },
        "outputId": "a6fd9cdb-d095-4f14-9a50-17d540d9fa76"
      },
      "outputs": [
        {
          "output_type": "stream",
          "name": "stderr",
          "text": [
            "<ipython-input-1-e1f6ed38484d>:36: MatplotlibDeprecationWarning: The seaborn styles shipped by Matplotlib are deprecated since 3.6, as they no longer correspond to the styles shipped by seaborn. However, they will remain available as 'seaborn-v0_8-<style>'. Alternatively, directly use the seaborn API instead.\n",
            "  plt.style.use(\"seaborn-whitegrid\")\n"
          ]
        },
        {
          "output_type": "display_data",
          "data": {
            "text/plain": [
              "<Figure size 640x480 with 0 Axes>"
            ]
          },
          "metadata": {}
        }
      ],
      "source": [
        "import numpy as np\n",
        "import pandas as pd\n",
        "import tensorflow as tf\n",
        "import matplotlib.pyplot as plt\n",
        "import seaborn as sns\n",
        "\n",
        "#data processing\n",
        "import re, string\n",
        "import nltk\n",
        "\n",
        "from sklearn import preprocessing\n",
        "from imblearn.over_sampling import RandomOverSampler\n",
        "from sklearn.model_selection import train_test_split\n",
        "\n",
        "\n",
        "#Naive Bayes\n",
        "from sklearn.feature_extraction.text import CountVectorizer\n",
        "from sklearn.feature_extraction.text import TfidfTransformer\n",
        "from sklearn.naive_bayes import MultinomialNB\n",
        "\n",
        "#keras\n",
        "import tensorflow as tf\n",
        "from tensorflow import keras\n",
        "\n",
        "\n",
        "#metrics\n",
        "from sklearn.metrics import accuracy_score, f1_score\n",
        "from sklearn.metrics import classification_report, confusion_matrix\n",
        "\n",
        "#set seed for reproducibility\n",
        "seed=42\n",
        "\n",
        "#set style for plots\n",
        "sns.set_style(\"whitegrid\")\n",
        "sns.despine()\n",
        "plt.style.use(\"seaborn-whitegrid\")\n",
        "plt.rc(\"figure\", autolayout=True)\n",
        "plt.rc(\"axes\", labelweight=\"bold\", labelsize=\"large\", titleweight=\"bold\", titlepad=10)"
      ]
    },
    {
      "cell_type": "code",
      "source": [
        "import nltk\n",
        "import numpy as np\n",
        "import pandas as pd\n",
        "import random\n",
        "import re\n",
        "import spacy\n",
        "\n",
        "from nltk.corpus import twitter_samples\n",
        "from nltk.tag import pos_tag_sents\n",
        "from sklearn.cluster import DBSCAN\n",
        "from sklearn.neighbors import DistanceMetric"
      ],
      "metadata": {
        "id": "GBWv8f6DT9Gi"
      },
      "execution_count": null,
      "outputs": []
    },
    {
      "cell_type": "code",
      "source": [
        "from google.colab import drive\n",
        "drive.mount('/content/drive')"
      ],
      "metadata": {
        "colab": {
          "base_uri": "https://localhost:8080/"
        },
        "id": "_ANQRVj3UOr6",
        "outputId": "33d6d54f-a7e7-45f0-d3cc-f7e10c98be82"
      },
      "execution_count": null,
      "outputs": [
        {
          "output_type": "stream",
          "name": "stdout",
          "text": [
            "Mounted at /content/drive\n"
          ]
        }
      ]
    },
    {
      "cell_type": "code",
      "source": [
        "df = pd.read_csv('/content/drive/MyDrive/Dataset/Live Tweet-Retweet/Gun Violence.csv')\n",
        "df.head()"
      ],
      "metadata": {
        "id": "stqMw43AUY-Q",
        "colab": {
          "base_uri": "https://localhost:8080/",
          "height": 354
        },
        "outputId": "35ff5d5d-f008-4fd3-b21b-1b909c067e60"
      },
      "execution_count": null,
      "outputs": [
        {
          "output_type": "execute_result",
          "data": {
            "text/plain": [
              "                         Id  \\\n",
              "0  6442dcb8ccf6c967bf6bf356   \n",
              "1  6442dcbbccf6c967bf6bf35d   \n",
              "2  6442dcbeccf6c967bf6bf362   \n",
              "3  6442dcc0ccf6c967bf6bf365   \n",
              "4  6442dcc1ccf6c967bf6bf368   \n",
              "\n",
              "                                               Tweet Language  Created At  \\\n",
              "0  @VivekGRamaswamy And best case scenario for yo...       en  2023-04-21   \n",
              "1  Also, how the FUCK is this more important than...       en  2023-04-21   \n",
              "2  @wisgop *except from gun violence. Then they s...       en  2023-04-21   \n",
              "3  End Gun Violence Epidemic https://t.co/z7y0siHcJw       en  2023-04-21   \n",
              "4  No restrictions on who can possess guns or car...       en  2023-04-21   \n",
              "\n",
              "          Topic         Query  Retweet Count             Tweet Id  \n",
              "0  Gun Violence  gun violence              0  1649487508047118336  \n",
              "1  Gun Violence  gun violence              0  1649487290631110656  \n",
              "2  Gun Violence  gun violence              0  1649487205197402123  \n",
              "3  Gun Violence  gun violence              0  1649487166265851904  \n",
              "4  Gun Violence  gun violence              0  1649487062951686144  "
            ],
            "text/html": [
              "\n",
              "  <div id=\"df-a0d22d3e-d5c3-4ef7-873b-c4f61e9ee51f\">\n",
              "    <div class=\"colab-df-container\">\n",
              "      <div>\n",
              "<style scoped>\n",
              "    .dataframe tbody tr th:only-of-type {\n",
              "        vertical-align: middle;\n",
              "    }\n",
              "\n",
              "    .dataframe tbody tr th {\n",
              "        vertical-align: top;\n",
              "    }\n",
              "\n",
              "    .dataframe thead th {\n",
              "        text-align: right;\n",
              "    }\n",
              "</style>\n",
              "<table border=\"1\" class=\"dataframe\">\n",
              "  <thead>\n",
              "    <tr style=\"text-align: right;\">\n",
              "      <th></th>\n",
              "      <th>Id</th>\n",
              "      <th>Tweet</th>\n",
              "      <th>Language</th>\n",
              "      <th>Created At</th>\n",
              "      <th>Topic</th>\n",
              "      <th>Query</th>\n",
              "      <th>Retweet Count</th>\n",
              "      <th>Tweet Id</th>\n",
              "    </tr>\n",
              "  </thead>\n",
              "  <tbody>\n",
              "    <tr>\n",
              "      <th>0</th>\n",
              "      <td>6442dcb8ccf6c967bf6bf356</td>\n",
              "      <td>@VivekGRamaswamy And best case scenario for yo...</td>\n",
              "      <td>en</td>\n",
              "      <td>2023-04-21</td>\n",
              "      <td>Gun Violence</td>\n",
              "      <td>gun violence</td>\n",
              "      <td>0</td>\n",
              "      <td>1649487508047118336</td>\n",
              "    </tr>\n",
              "    <tr>\n",
              "      <th>1</th>\n",
              "      <td>6442dcbbccf6c967bf6bf35d</td>\n",
              "      <td>Also, how the FUCK is this more important than...</td>\n",
              "      <td>en</td>\n",
              "      <td>2023-04-21</td>\n",
              "      <td>Gun Violence</td>\n",
              "      <td>gun violence</td>\n",
              "      <td>0</td>\n",
              "      <td>1649487290631110656</td>\n",
              "    </tr>\n",
              "    <tr>\n",
              "      <th>2</th>\n",
              "      <td>6442dcbeccf6c967bf6bf362</td>\n",
              "      <td>@wisgop *except from gun violence. Then they s...</td>\n",
              "      <td>en</td>\n",
              "      <td>2023-04-21</td>\n",
              "      <td>Gun Violence</td>\n",
              "      <td>gun violence</td>\n",
              "      <td>0</td>\n",
              "      <td>1649487205197402123</td>\n",
              "    </tr>\n",
              "    <tr>\n",
              "      <th>3</th>\n",
              "      <td>6442dcc0ccf6c967bf6bf365</td>\n",
              "      <td>End Gun Violence Epidemic https://t.co/z7y0siHcJw</td>\n",
              "      <td>en</td>\n",
              "      <td>2023-04-21</td>\n",
              "      <td>Gun Violence</td>\n",
              "      <td>gun violence</td>\n",
              "      <td>0</td>\n",
              "      <td>1649487166265851904</td>\n",
              "    </tr>\n",
              "    <tr>\n",
              "      <th>4</th>\n",
              "      <td>6442dcc1ccf6c967bf6bf368</td>\n",
              "      <td>No restrictions on who can possess guns or car...</td>\n",
              "      <td>en</td>\n",
              "      <td>2023-04-21</td>\n",
              "      <td>Gun Violence</td>\n",
              "      <td>gun violence</td>\n",
              "      <td>0</td>\n",
              "      <td>1649487062951686144</td>\n",
              "    </tr>\n",
              "  </tbody>\n",
              "</table>\n",
              "</div>\n",
              "      <button class=\"colab-df-convert\" onclick=\"convertToInteractive('df-a0d22d3e-d5c3-4ef7-873b-c4f61e9ee51f')\"\n",
              "              title=\"Convert this dataframe to an interactive table.\"\n",
              "              style=\"display:none;\">\n",
              "        \n",
              "  <svg xmlns=\"http://www.w3.org/2000/svg\" height=\"24px\"viewBox=\"0 0 24 24\"\n",
              "       width=\"24px\">\n",
              "    <path d=\"M0 0h24v24H0V0z\" fill=\"none\"/>\n",
              "    <path d=\"M18.56 5.44l.94 2.06.94-2.06 2.06-.94-2.06-.94-.94-2.06-.94 2.06-2.06.94zm-11 1L8.5 8.5l.94-2.06 2.06-.94-2.06-.94L8.5 2.5l-.94 2.06-2.06.94zm10 10l.94 2.06.94-2.06 2.06-.94-2.06-.94-.94-2.06-.94 2.06-2.06.94z\"/><path d=\"M17.41 7.96l-1.37-1.37c-.4-.4-.92-.59-1.43-.59-.52 0-1.04.2-1.43.59L10.3 9.45l-7.72 7.72c-.78.78-.78 2.05 0 2.83L4 21.41c.39.39.9.59 1.41.59.51 0 1.02-.2 1.41-.59l7.78-7.78 2.81-2.81c.8-.78.8-2.07 0-2.86zM5.41 20L4 18.59l7.72-7.72 1.47 1.35L5.41 20z\"/>\n",
              "  </svg>\n",
              "      </button>\n",
              "      \n",
              "  <style>\n",
              "    .colab-df-container {\n",
              "      display:flex;\n",
              "      flex-wrap:wrap;\n",
              "      gap: 12px;\n",
              "    }\n",
              "\n",
              "    .colab-df-convert {\n",
              "      background-color: #E8F0FE;\n",
              "      border: none;\n",
              "      border-radius: 50%;\n",
              "      cursor: pointer;\n",
              "      display: none;\n",
              "      fill: #1967D2;\n",
              "      height: 32px;\n",
              "      padding: 0 0 0 0;\n",
              "      width: 32px;\n",
              "    }\n",
              "\n",
              "    .colab-df-convert:hover {\n",
              "      background-color: #E2EBFA;\n",
              "      box-shadow: 0px 1px 2px rgba(60, 64, 67, 0.3), 0px 1px 3px 1px rgba(60, 64, 67, 0.15);\n",
              "      fill: #174EA6;\n",
              "    }\n",
              "\n",
              "    [theme=dark] .colab-df-convert {\n",
              "      background-color: #3B4455;\n",
              "      fill: #D2E3FC;\n",
              "    }\n",
              "\n",
              "    [theme=dark] .colab-df-convert:hover {\n",
              "      background-color: #434B5C;\n",
              "      box-shadow: 0px 1px 3px 1px rgba(0, 0, 0, 0.15);\n",
              "      filter: drop-shadow(0px 1px 2px rgba(0, 0, 0, 0.3));\n",
              "      fill: #FFFFFF;\n",
              "    }\n",
              "  </style>\n",
              "\n",
              "      <script>\n",
              "        const buttonEl =\n",
              "          document.querySelector('#df-a0d22d3e-d5c3-4ef7-873b-c4f61e9ee51f button.colab-df-convert');\n",
              "        buttonEl.style.display =\n",
              "          google.colab.kernel.accessAllowed ? 'block' : 'none';\n",
              "\n",
              "        async function convertToInteractive(key) {\n",
              "          const element = document.querySelector('#df-a0d22d3e-d5c3-4ef7-873b-c4f61e9ee51f');\n",
              "          const dataTable =\n",
              "            await google.colab.kernel.invokeFunction('convertToInteractive',\n",
              "                                                     [key], {});\n",
              "          if (!dataTable) return;\n",
              "\n",
              "          const docLinkHtml = 'Like what you see? Visit the ' +\n",
              "            '<a target=\"_blank\" href=https://colab.research.google.com/notebooks/data_table.ipynb>data table notebook</a>'\n",
              "            + ' to learn more about interactive tables.';\n",
              "          element.innerHTML = '';\n",
              "          dataTable['output_type'] = 'display_data';\n",
              "          await google.colab.output.renderOutput(dataTable, element);\n",
              "          const docLink = document.createElement('div');\n",
              "          docLink.innerHTML = docLinkHtml;\n",
              "          element.appendChild(docLink);\n",
              "        }\n",
              "      </script>\n",
              "    </div>\n",
              "  </div>\n",
              "  "
            ]
          },
          "metadata": {},
          "execution_count": 4
        }
      ]
    },
    {
      "cell_type": "code",
      "source": [
        "len(df)"
      ],
      "metadata": {
        "colab": {
          "base_uri": "https://localhost:8080/"
        },
        "id": "pA5jeYNrWIqV",
        "outputId": "82bb1b34-2e70-4614-c2ca-b0426e0252e8"
      },
      "execution_count": null,
      "outputs": [
        {
          "output_type": "execute_result",
          "data": {
            "text/plain": [
              "11524"
            ]
          },
          "metadata": {},
          "execution_count": 5
        }
      ]
    },
    {
      "cell_type": "code",
      "source": [
        "df = df.drop_duplicates(subset=['Tweet'])\n",
        "df.reset_index(drop=True, inplace=True)\n",
        "len(df)"
      ],
      "metadata": {
        "colab": {
          "base_uri": "https://localhost:8080/"
        },
        "id": "ROSuRNYIWACM",
        "outputId": "db1d7883-574b-4127-bf08-49fd31229a23"
      },
      "execution_count": null,
      "outputs": [
        {
          "output_type": "execute_result",
          "data": {
            "text/plain": [
              "7983"
            ]
          },
          "metadata": {},
          "execution_count": 6
        }
      ]
    },
    {
      "cell_type": "code",
      "source": [
        "def data_cleaning(line):\n",
        "    regrex_pattern = re.compile(pattern = \"[\"\n",
        "        u\"\\U0001F600-\\U0001F64F\"  # emoticons\n",
        "        u\"\\U0001F300-\\U0001F5FF\"  # symbols & pictographs\n",
        "        u\"\\U0001F680-\\U0001F6FF\"  # transport & map symbols\n",
        "        u\"\\U0001F1E0-\\U0001F1FF\"  # flags (iOS)\n",
        "                            \"]+\", flags = re.UNICODE)\n",
        "    clean_text = regrex_pattern.sub(r'', line)\n",
        "    clean_text = clean_text.replace('\\r', '').replace('\\n', ' ').replace('\\n', ' ').lower() #remove \\n and \\r and lowercase\n",
        "    clean_text = re.sub(r\"(?:\\@|https?\\://)\\S+\", \"\", clean_text) #remove links and mentions\n",
        "    clean_text = re.sub(r'[^\\x00-\\x7f]',r'', clean_text) #remove non utf8/ascii characters such as '\\x9a\\x91\\x97\\x9a\\x97'\n",
        "    banned_list= string.punctuation + 'Ã'+'±'+'ã'+'¼'+'â'+'»'+'§'\n",
        "    table = str.maketrans('', '', banned_list)\n",
        "    clean_text = clean_text.translate(table)\n",
        "    new_tweet = \" \".join(word.strip() for word in re.split('#(?!(?:hashtag)\\b)[\\w-]+(?=(?:\\s+#[\\w-]+)*\\s*$)', clean_text)) #remove last hashtags\n",
        "    new_tweet2 = \" \".join(word.strip() for word in re.split('#|_', new_tweet)) #remove hashtags symbol from words in the middle of the sentence\n",
        "    new_tweet2 = re.sub(\"\\s\\s+\" , \" \", new_tweet2)\n",
        "    clean_text = new_tweet2.replace('$', '')\n",
        "    clean_text = clean_text.replace('#', '')\n",
        "    return clean_text"
      ],
      "metadata": {
        "id": "Eji9DKNQYkH_"
      },
      "execution_count": null,
      "outputs": []
    },
    {
      "cell_type": "code",
      "source": [
        "df['clean_text'] = df['Tweet'].apply(lambda func: data_cleaning(func))"
      ],
      "metadata": {
        "id": "SGfwYYKZbcGV"
      },
      "execution_count": null,
      "outputs": []
    },
    {
      "cell_type": "code",
      "source": [
        "import spacy.cli\n",
        "spacy.cli.download(\"en_core_web_lg\")"
      ],
      "metadata": {
        "colab": {
          "base_uri": "https://localhost:8080/"
        },
        "id": "OJwihakAb88X",
        "outputId": "10fb1d42-1c5d-4c64-863a-0875620bb5e3"
      },
      "execution_count": null,
      "outputs": [
        {
          "output_type": "stream",
          "name": "stdout",
          "text": [
            "\u001b[38;5;2m✔ Download and installation successful\u001b[0m\n",
            "You can now load the package via spacy.load('en_core_web_lg')\n"
          ]
        }
      ]
    },
    {
      "cell_type": "code",
      "source": [
        "import spacy"
      ],
      "metadata": {
        "id": "5Tuxv49ubxRT"
      },
      "execution_count": null,
      "outputs": []
    },
    {
      "cell_type": "code",
      "source": [
        "nlp = spacy.load('en_core_web_lg')"
      ],
      "metadata": {
        "id": "fo6hjIqbbetU"
      },
      "execution_count": null,
      "outputs": []
    },
    {
      "cell_type": "code",
      "source": [
        "from tqdm import tqdm\n",
        "sent_vecs = {}\n",
        "docs = []\n",
        "\n",
        "for text in tqdm(df['clean_text']):\n",
        "  doc = nlp(text)\n",
        "  docs.append(doc)\n",
        "  sent_vecs.update({text: doc.vector})\n",
        "\n",
        "sentences = list(sent_vecs.keys())\n",
        "vectors = list(sent_vecs.values())"
      ],
      "metadata": {
        "colab": {
          "base_uri": "https://localhost:8080/"
        },
        "id": "74hp_GN2b35p",
        "outputId": "dd084e7a-76e7-4145-b176-fb6c22c7100a"
      },
      "execution_count": null,
      "outputs": [
        {
          "output_type": "stream",
          "name": "stderr",
          "text": [
            "100%|██████████| 7983/7983 [02:23<00:00, 55.76it/s]\n"
          ]
        }
      ]
    },
    {
      "cell_type": "code",
      "source": [
        "x = np.array(vectors)"
      ],
      "metadata": {
        "id": "KtQRGFeic5S1"
      },
      "execution_count": null,
      "outputs": []
    },
    {
      "cell_type": "code",
      "source": [
        "n_classes = {}\n",
        "\n",
        "for i in tqdm(np.arange(0.001, 1, 0.002)):\n",
        "  dbscan = DBSCAN(eps=i, min_samples=2, metric='cosine').fit(x)\n",
        "  n_classes.update({i: len(pd.Series(dbscan.labels_).value_counts())})\n",
        "\n",
        "dbscan = DBSCAN(eps=0.07, min_samples=2, metric='cosine').fit(x)"
      ],
      "metadata": {
        "colab": {
          "base_uri": "https://localhost:8080/"
        },
        "id": "ez76h4-Ig8hQ",
        "outputId": "3965ddd2-87e0-4521-b446-12426f34c1af"
      },
      "execution_count": null,
      "outputs": [
        {
          "output_type": "stream",
          "name": "stderr",
          "text": [
            "100%|██████████| 500/500 [13:42<00:00,  1.64s/it]\n"
          ]
        }
      ]
    },
    {
      "cell_type": "code",
      "source": [
        "dbscan.labels_"
      ],
      "metadata": {
        "colab": {
          "base_uri": "https://localhost:8080/"
        },
        "id": "blDRtE_llhIM",
        "outputId": "a76190dd-c416-4d6e-e0df-c97dc282a5af"
      },
      "execution_count": null,
      "outputs": [
        {
          "output_type": "execute_result",
          "data": {
            "text/plain": [
              "array([ 0,  0,  0, ..., -1, -1,  0])"
            ]
          },
          "metadata": {},
          "execution_count": 16
        }
      ]
    },
    {
      "cell_type": "code",
      "source": [
        "results = pd.DataFrame({'label': dbscan.labels_, 'sent': sentences})\n",
        "results['label'].unique()"
      ],
      "metadata": {
        "colab": {
          "base_uri": "https://localhost:8080/"
        },
        "id": "Qmkp__HITtxS",
        "outputId": "68319064-9e29-4ece-a96f-69d4de71dc02"
      },
      "execution_count": null,
      "outputs": [
        {
          "output_type": "execute_result",
          "data": {
            "text/plain": [
              "array([ 0, -1,  1,  2,  3,  4,  5,  6,  7,  8,  9, 10, 11, 12, 13, 14, 15,\n",
              "       16, 17, 18, 19, 20, 21, 22, 23, 24, 25, 26, 27, 28, 29, 30, 31, 32,\n",
              "       33, 34, 35, 36, 37, 38, 39, 40, 41, 42, 43, 44, 45, 46, 47, 48, 49,\n",
              "       50, 51, 52, 53, 54])"
            ]
          },
          "metadata": {},
          "execution_count": 17
        }
      ]
    },
    {
      "cell_type": "code",
      "source": [
        "eg_result = results[results.label == 0].sent.tolist()\n",
        "event_df = df[df['clean_text'].isin(eg_result)][['Created At', 'Tweet']]\n",
        "# event_df['Created At'] = pd.to_datetime(event_df['Created At'])\n",
        "event_df = event_df.sort_values(by='Created At').dropna()"
      ],
      "metadata": {
        "id": "faZxk3bBh4q8"
      },
      "execution_count": null,
      "outputs": []
    },
    {
      "cell_type": "code",
      "source": [
        "event_df"
      ],
      "metadata": {
        "colab": {
          "base_uri": "https://localhost:8080/",
          "height": 423
        },
        "id": "SsRdXOY5Ty2_",
        "outputId": "b3bfc754-dbd5-4fa6-fa4d-831c008ac936"
      },
      "execution_count": null,
      "outputs": [
        {
          "output_type": "execute_result",
          "data": {
            "text/plain": [
              "      Created At                                              Tweet\n",
              "1058  2023-04-12  @drchethansathya @netflix @yularifilms @Northw...\n",
              "947   2023-04-12  @ArtAcevedo @RealJamesWoods Does it hurt when ...\n",
              "946   2023-04-12  @CalltoActivism It’s amazing of the amount of ...\n",
              "1421  2023-04-12  @mgtd76 @TeslaHaxz @FenixAmmunition Thankfully...\n",
              "1420  2023-04-12  @POTUS Maybe the U S government should stop st...\n",
              "...          ...                                                ...\n",
              "7460  2023-05-02  @NBCNews Texas Governor Caresless? What goings...\n",
              "7461  2023-05-02  @Flightless223 @adorcharm @HoustonChron We hav...\n",
              "7462  2023-05-02  @DawnsEcho @PleaseThink1776 @UnrealElHunter @T...\n",
              "7372  2023-05-02  Baby boomer midwest democrats are interesting ...\n",
              "7489  2023-05-02  @GavinNewsom Los Angeles CA. San Pedro and 6th...\n",
              "\n",
              "[6033 rows x 2 columns]"
            ],
            "text/html": [
              "\n",
              "  <div id=\"df-a44f8c4d-af45-41e5-a2ea-aacee6822454\">\n",
              "    <div class=\"colab-df-container\">\n",
              "      <div>\n",
              "<style scoped>\n",
              "    .dataframe tbody tr th:only-of-type {\n",
              "        vertical-align: middle;\n",
              "    }\n",
              "\n",
              "    .dataframe tbody tr th {\n",
              "        vertical-align: top;\n",
              "    }\n",
              "\n",
              "    .dataframe thead th {\n",
              "        text-align: right;\n",
              "    }\n",
              "</style>\n",
              "<table border=\"1\" class=\"dataframe\">\n",
              "  <thead>\n",
              "    <tr style=\"text-align: right;\">\n",
              "      <th></th>\n",
              "      <th>Created At</th>\n",
              "      <th>Tweet</th>\n",
              "    </tr>\n",
              "  </thead>\n",
              "  <tbody>\n",
              "    <tr>\n",
              "      <th>1058</th>\n",
              "      <td>2023-04-12</td>\n",
              "      <td>@drchethansathya @netflix @yularifilms @Northw...</td>\n",
              "    </tr>\n",
              "    <tr>\n",
              "      <th>947</th>\n",
              "      <td>2023-04-12</td>\n",
              "      <td>@ArtAcevedo @RealJamesWoods Does it hurt when ...</td>\n",
              "    </tr>\n",
              "    <tr>\n",
              "      <th>946</th>\n",
              "      <td>2023-04-12</td>\n",
              "      <td>@CalltoActivism It’s amazing of the amount of ...</td>\n",
              "    </tr>\n",
              "    <tr>\n",
              "      <th>1421</th>\n",
              "      <td>2023-04-12</td>\n",
              "      <td>@mgtd76 @TeslaHaxz @FenixAmmunition Thankfully...</td>\n",
              "    </tr>\n",
              "    <tr>\n",
              "      <th>1420</th>\n",
              "      <td>2023-04-12</td>\n",
              "      <td>@POTUS Maybe the U S government should stop st...</td>\n",
              "    </tr>\n",
              "    <tr>\n",
              "      <th>...</th>\n",
              "      <td>...</td>\n",
              "      <td>...</td>\n",
              "    </tr>\n",
              "    <tr>\n",
              "      <th>7460</th>\n",
              "      <td>2023-05-02</td>\n",
              "      <td>@NBCNews Texas Governor Caresless? What goings...</td>\n",
              "    </tr>\n",
              "    <tr>\n",
              "      <th>7461</th>\n",
              "      <td>2023-05-02</td>\n",
              "      <td>@Flightless223 @adorcharm @HoustonChron We hav...</td>\n",
              "    </tr>\n",
              "    <tr>\n",
              "      <th>7462</th>\n",
              "      <td>2023-05-02</td>\n",
              "      <td>@DawnsEcho @PleaseThink1776 @UnrealElHunter @T...</td>\n",
              "    </tr>\n",
              "    <tr>\n",
              "      <th>7372</th>\n",
              "      <td>2023-05-02</td>\n",
              "      <td>Baby boomer midwest democrats are interesting ...</td>\n",
              "    </tr>\n",
              "    <tr>\n",
              "      <th>7489</th>\n",
              "      <td>2023-05-02</td>\n",
              "      <td>@GavinNewsom Los Angeles CA. San Pedro and 6th...</td>\n",
              "    </tr>\n",
              "  </tbody>\n",
              "</table>\n",
              "<p>6033 rows × 2 columns</p>\n",
              "</div>\n",
              "      <button class=\"colab-df-convert\" onclick=\"convertToInteractive('df-a44f8c4d-af45-41e5-a2ea-aacee6822454')\"\n",
              "              title=\"Convert this dataframe to an interactive table.\"\n",
              "              style=\"display:none;\">\n",
              "        \n",
              "  <svg xmlns=\"http://www.w3.org/2000/svg\" height=\"24px\"viewBox=\"0 0 24 24\"\n",
              "       width=\"24px\">\n",
              "    <path d=\"M0 0h24v24H0V0z\" fill=\"none\"/>\n",
              "    <path d=\"M18.56 5.44l.94 2.06.94-2.06 2.06-.94-2.06-.94-.94-2.06-.94 2.06-2.06.94zm-11 1L8.5 8.5l.94-2.06 2.06-.94-2.06-.94L8.5 2.5l-.94 2.06-2.06.94zm10 10l.94 2.06.94-2.06 2.06-.94-2.06-.94-.94-2.06-.94 2.06-2.06.94z\"/><path d=\"M17.41 7.96l-1.37-1.37c-.4-.4-.92-.59-1.43-.59-.52 0-1.04.2-1.43.59L10.3 9.45l-7.72 7.72c-.78.78-.78 2.05 0 2.83L4 21.41c.39.39.9.59 1.41.59.51 0 1.02-.2 1.41-.59l7.78-7.78 2.81-2.81c.8-.78.8-2.07 0-2.86zM5.41 20L4 18.59l7.72-7.72 1.47 1.35L5.41 20z\"/>\n",
              "  </svg>\n",
              "      </button>\n",
              "      \n",
              "  <style>\n",
              "    .colab-df-container {\n",
              "      display:flex;\n",
              "      flex-wrap:wrap;\n",
              "      gap: 12px;\n",
              "    }\n",
              "\n",
              "    .colab-df-convert {\n",
              "      background-color: #E8F0FE;\n",
              "      border: none;\n",
              "      border-radius: 50%;\n",
              "      cursor: pointer;\n",
              "      display: none;\n",
              "      fill: #1967D2;\n",
              "      height: 32px;\n",
              "      padding: 0 0 0 0;\n",
              "      width: 32px;\n",
              "    }\n",
              "\n",
              "    .colab-df-convert:hover {\n",
              "      background-color: #E2EBFA;\n",
              "      box-shadow: 0px 1px 2px rgba(60, 64, 67, 0.3), 0px 1px 3px 1px rgba(60, 64, 67, 0.15);\n",
              "      fill: #174EA6;\n",
              "    }\n",
              "\n",
              "    [theme=dark] .colab-df-convert {\n",
              "      background-color: #3B4455;\n",
              "      fill: #D2E3FC;\n",
              "    }\n",
              "\n",
              "    [theme=dark] .colab-df-convert:hover {\n",
              "      background-color: #434B5C;\n",
              "      box-shadow: 0px 1px 3px 1px rgba(0, 0, 0, 0.15);\n",
              "      filter: drop-shadow(0px 1px 2px rgba(0, 0, 0, 0.3));\n",
              "      fill: #FFFFFF;\n",
              "    }\n",
              "  </style>\n",
              "\n",
              "      <script>\n",
              "        const buttonEl =\n",
              "          document.querySelector('#df-a44f8c4d-af45-41e5-a2ea-aacee6822454 button.colab-df-convert');\n",
              "        buttonEl.style.display =\n",
              "          google.colab.kernel.accessAllowed ? 'block' : 'none';\n",
              "\n",
              "        async function convertToInteractive(key) {\n",
              "          const element = document.querySelector('#df-a44f8c4d-af45-41e5-a2ea-aacee6822454');\n",
              "          const dataTable =\n",
              "            await google.colab.kernel.invokeFunction('convertToInteractive',\n",
              "                                                     [key], {});\n",
              "          if (!dataTable) return;\n",
              "\n",
              "          const docLinkHtml = 'Like what you see? Visit the ' +\n",
              "            '<a target=\"_blank\" href=https://colab.research.google.com/notebooks/data_table.ipynb>data table notebook</a>'\n",
              "            + ' to learn more about interactive tables.';\n",
              "          element.innerHTML = '';\n",
              "          dataTable['output_type'] = 'display_data';\n",
              "          await google.colab.output.renderOutput(dataTable, element);\n",
              "          const docLink = document.createElement('div');\n",
              "          docLink.innerHTML = docLinkHtml;\n",
              "          element.appendChild(docLink);\n",
              "        }\n",
              "      </script>\n",
              "    </div>\n",
              "  </div>\n",
              "  "
            ]
          },
          "metadata": {},
          "execution_count": 48
        }
      ]
    },
    {
      "cell_type": "code",
      "source": [
        "res = [i for i in event_df['Tweet']]\n",
        "res"
      ],
      "metadata": {
        "colab": {
          "base_uri": "https://localhost:8080/"
        },
        "id": "cU4umO4-msLZ",
        "outputId": "eba02f4e-f4e4-4731-a461-bd380bbdd300"
      },
      "execution_count": null,
      "outputs": [
        {
          "output_type": "execute_result",
          "data": {
            "text/plain": [
              "[\"Mental illness + ANYTHING = mass murder. \\n\\nBombs. Automobiles. Fire. Poison. \\n\\nDictators. \\n\\nForceps... \\n\\nBut it's the guns. https://t.co/IJHe3zjb6m\",\n",
              " \"@StephenKing Mental illness + ANYTHING = mass murder. Bombs. Automobiles. Fire. Poison. Forceps... \\n\\nBut it's the guns.\"]"
            ]
          },
          "metadata": {},
          "execution_count": 41
        }
      ]
    }
  ]
}